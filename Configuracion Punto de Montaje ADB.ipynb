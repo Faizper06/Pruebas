{
 "cells": [
  {
   "cell_type": "markdown",
   "metadata": {
    "application/vnd.databricks.v1+cell": {
     "cellMetadata": {},
     "inputWidgets": {},
     "nuid": "ecda543d-2f93-4b99-a6b0-dd0f596daac0",
     "showTitle": false,
     "tableResultSettingsMap": {},
     "title": ""
    }
   },
   "source": [
    "<style>\n",
    ".mark-box {\n",
    "  background-color: #f3f3f3;\n",
    "  border-left: 6px solid #4CAF50;\n",
    "  padding: 12px 24px;\n",
    "  font-family: monospace;\n",
    "  font-size: 14px;\n",
    "}\n",
    "</style>\n",
    "\n",
    "<div class=\"mark-box\">\n",
    "<b>\uD83C\uDFE2 Empresa:</b> BICODE SAS<br>\n",
    "<b>\uD83D\uDC68‍\uD83D\uDCBB Autor:</b> Ingeniero Fabian Izquierdo Perez<br>\n",
    "<b>\uD83D\uDCC5 Fecha:</b> 23/06/2025<br>\n",
    "<b>\uD83D\uDEE0️ Tipo:</b> Data Processing<br>\n",
    "<b>✉️ Email:</b> developer@bicode.co<br>\n",
    "<b>\uD83D\uDCCC Descripción:</b><br>\n",
    "Este notebook documenta la creación de <b>puntos de montaje seguros</b> en Azure Databricks sobre ADLS Gen2.<br><br>\n",
    "Se aplican <b>buenas prácticas de seguridad</b> mediante el uso de:\n",
    "<ul>\n",
    "  <li>App Registrations con permisos mínimos necesarios</li>\n",
    "  <li>Azure Key Vault para gestión segura de secretos</li>\n",
    "  <li>Mounts configurados con scopes seguros</li>\n",
    "</ul>\n",
    "Esto permite establecer una arquitectura robusta, centralizada y segura para el acceso a los datos en el lakehouse.\n",
    "\n",
    "</div>\n"
   ]
  },
  {
   "cell_type": "markdown",
   "metadata": {
    "application/vnd.databricks.v1+cell": {
     "cellMetadata": {},
     "inputWidgets": {},
     "nuid": "50c02ff3-75e2-4cce-9bac-c169e429e602",
     "showTitle": false,
     "tableResultSettingsMap": {},
     "title": ""
    }
   },
   "source": [
    "## Configuration - Mount Points"
   ]
  },
  {
   "cell_type": "markdown",
   "metadata": {
    "application/vnd.databricks.v1+cell": {
     "cellMetadata": {},
     "inputWidgets": {},
     "nuid": "63b9533f-6ee4-4316-ad69-1ad07447d8ab",
     "showTitle": false,
     "tableResultSettingsMap": {},
     "title": ""
    }
   },
   "source": [
    "### 1. _For this configuration the following services must be provisioned:_"
   ]
  },
  {
   "cell_type": "markdown",
   "metadata": {
    "application/vnd.databricks.v1+cell": {
     "cellMetadata": {},
     "inputWidgets": {},
     "nuid": "6619ede9-95f2-4e51-ae3d-bf507444eef6",
     "showTitle": false,
     "tableResultSettingsMap": {},
     "title": ""
    }
   },
   "source": [
    "\n",
    "- 1. #### _Creacion de un servicio en azure Key vault:_\n",
    "<div style=\"text-align: center;\">\n",
    "  <img src=\"https://learn.microsoft.com/es-es/dotnet/azure/media/azure-key-vault.svg\" alt=\"Key Vault\" width=\"100\"/>\n",
    "</div>\n",
    "- 2. #### _Creacion de un Azure storage Account:_\n",
    "<div style=\"text-align: center;\">\n",
    "  <img src=\"https://learn.microsoft.com/es-es/dotnet/azure/media/storage-blobs.svg\" alt=\"Key Vault\" width=\"100\"/>\n",
    "</div>\n",
    "- 3. #### _Creacion de un Azure Databricks:_ \n",
    "<div style=\"text-align: center;\">\n",
    "  <img src=\"https://www.databricks.com/sites/default/files/2023-03/azure-feature-1.jpg?v=1724844237\" alt=\"Key Vault\" width=\"100\"/>\n",
    "</div>"
   ]
  },
  {
   "cell_type": "markdown",
   "metadata": {
    "application/vnd.databricks.v1+cell": {
     "cellMetadata": {},
     "inputWidgets": {},
     "nuid": "efe447dc-a0dc-40b0-9399-3de60c421bed",
     "showTitle": false,
     "tableResultSettingsMap": {},
     "title": ""
    }
   },
   "source": [
    "### 2. _Initial Configuration:_"
   ]
  },
  {
   "cell_type": "markdown",
   "metadata": {
    "application/vnd.databricks.v1+cell": {
     "cellMetadata": {},
     "inputWidgets": {},
     "nuid": "102550a0-4b54-466c-b837-e81ee7048c91",
     "showTitle": false,
     "tableResultSettingsMap": {},
     "title": ""
    }
   },
   "source": [
    "- 1. Crear un Scope En Azure Databricks\n",
    "> Una Opción es creandolo desde el servicio de databricks, utilizando \"#secrets/createScope\".  \n",
    "> Ejemplo : https://adb-****************.10.azuredatabricks.net/#secrets/createScope  \n",
    "> Este Scope creado debe ir configurado con el DNS Name del key vault donde se van a almacenar los secretos\n",
    "\n",
    "- 2. Creacion de app registration.  \n",
    "> https://portal.azure.com/#view/Microsoft_AAD_IAM/ActiveDirectoryMenuBlade/~/RegisteredApps  \n",
    "\n",
    "- 3. Rol en cuenta de almacenamiento al app registration.  \n",
    "> Rol = \"Storage Blob Data Contributor\"\n",
    "\n",
    "- 4. Rol Sobre el Key Vault creado a la entidad administrada \"AzureDatabricks\".  \n",
    "> Rol = \"Key Vault Secrets User\""
   ]
  },
  {
   "cell_type": "markdown",
   "metadata": {
    "application/vnd.databricks.v1+cell": {
     "cellMetadata": {},
     "inputWidgets": {},
     "nuid": "d50d0ef1-dc7a-4e06-92ce-6cb13b68e2e3",
     "showTitle": false,
     "tableResultSettingsMap": {},
     "title": ""
    }
   },
   "source": [
    "### 3. _Creation of secrets:_"
   ]
  },
  {
   "cell_type": "markdown",
   "metadata": {
    "application/vnd.databricks.v1+cell": {
     "cellMetadata": {},
     "inputWidgets": {},
     "nuid": "832a7e64-fa4d-4aa0-b075-791538306cb2",
     "showTitle": false,
     "tableResultSettingsMap": {},
     "title": ""
    }
   },
   "source": [
    "En el Azure Key Vaul creado se deben crear los siguientes secretos:  \n",
    "- 1. _ClienteId_ : Este codigo se obtiene desde el App Registration - Application (client) ID\n",
    "- 2. _ClientSercret_ : Este codigo se obtiene desde Certificados y secretos de App Registration, Campo  \"valor\"\n",
    "- 3. _TenantId_: Este codigo se obtiene desde el Key vault, variable Directory ID  \n",
    "- 4. _sase_xxxxx_: Nombre del storage account\n",
    "\n"
   ]
  },
  {
   "cell_type": "markdown",
   "metadata": {
    "application/vnd.databricks.v1+cell": {
     "cellMetadata": {},
     "inputWidgets": {},
     "nuid": "948e25c8-768c-41a9-aab8-d37d71ab8f8e",
     "showTitle": false,
     "tableResultSettingsMap": {},
     "title": ""
    }
   },
   "source": [
    "### 4. _Creating the mount point:_  \n",
    "A continuacion se debe implementar el siguiente codigo:"
   ]
  },
  {
   "cell_type": "code",
   "execution_count": 0,
   "metadata": {
    "application/vnd.databricks.v1+cell": {
     "cellMetadata": {},
     "inputWidgets": {},
     "nuid": "c6a29d51-a6e0-4c31-9720-74a1333c80d7",
     "showTitle": true,
     "tableResultSettingsMap": {},
     "title": "Configuration"
    }
   },
   "outputs": [],
   "source": [
    "# Relacion de los diferentes contenedores de montaje #\n",
    "MOUNT_CONTAINER_OPERATION = \"operacion\"\n",
    "MOUNT_CONTAINER_LANDING = \"bronze\"\n",
    "MOUNT_CONTAINER_TRUSTED = 'silver'\n",
    "MOUNT_CONTAINER_REFINED = 'gold'\n",
    "MOUNT_CONTAINER_CATALOGING = 'maestro-negocio'\n",
    "# Variables de los recretos almacenados en el Key Vault #\n",
    "TENANT_KEY = \"TenantId\"\n",
    "CLIENT_KEY = \"ClienteId\"\n",
    "SECRET_KEY = \"ClientSercret\"\n",
    "# Nombre del Scope creardo en databricks\n",
    "ENVIRONMENT_SCOPE = 'StorageScope'\n",
    "LAKE_ACCOUNT = dbutils.secrets.get(ENVIRONMENT_SCOPE, 'sase_xxxxx')\n",
    "ALIAS_MOUNT = \"XXXXX\" #Nombre que se asigna para identificar el mount\n",
    "\n",
    "configs = {\"fs.azure.account.auth.type\": \"OAuth\",\n",
    "             \"fs.azure.account.oauth.provider.type\":\"org.apache.hadoop.fs.azurebfs.oauth2.ClientCredsTokenProvider\",\n",
    "             \"fs.azure.account.oauth2.client.id\": \"id\",\n",
    "             \"fs.azure.account.oauth2.client.secret\": \"secret\",\n",
    "             \"fs.azure.account.oauth2.client.endpoint\": \"endpoint\"}"
   ]
  },
  {
   "cell_type": "code",
   "execution_count": 0,
   "metadata": {
    "application/vnd.databricks.v1+cell": {
     "cellMetadata": {
      "byteLimit": 2048000,
      "rowLimit": 10000
     },
     "inputWidgets": {},
     "nuid": "58ebab7d-425d-4f08-8b1d-1a78e31f6797",
     "showTitle": true,
     "tableResultSettingsMap": {},
     "title": "Def funtion"
    }
   },
   "outputs": [],
   "source": [
    "# Method to create mount point for all the containers in Datalake\n",
    "def mount_point(ALIAS_MOUNT,str_mount_point, str_datalake_point, str_key_client, str_key_secret, str_tenant_secret, str_Enviroment_Scope, configs):  \n",
    "  \n",
    "  configs[\"fs.azure.account.oauth2.client.id\"] = dbutils.secrets.get(str_Enviroment_Scope, str_key_client)\n",
    "  configs[\"fs.azure.account.oauth2.client.secret\"] = dbutils.secrets.get(str_Enviroment_Scope, str_key_secret)\n",
    "  configs[\"fs.azure.account.oauth2.client.endpoint\"] = \"https://login.microsoftonline.com/{0}/oauth2/token\"\\\n",
    "  .format(dbutils.secrets.get(scope = str_Enviroment_Scope, key = str_tenant_secret))\n",
    "\n",
    "  try:\n",
    "    dbutils.fs.mount(\n",
    "    source = \"abfss://\" + str_mount_point + \"@\"+str_datalake_point+\".dfs.core.windows.net/\",\n",
    "    mount_point = f\"/mnt/{ALIAS_MOUNT}/\"+str_mount_point,\n",
    "    extra_configs = configs)\n",
    "  except Exception as e:\n",
    "    errorMsg = str(e)\n",
    "    if \"already mounted\" in errorMsg :\n",
    "      print(\"{} already mounted. Run previous cells to unmount first\".format(str_mount_point))\n",
    "    else:\n",
    "      raise e"
   ]
  },
  {
   "cell_type": "code",
   "execution_count": 0,
   "metadata": {
    "application/vnd.databricks.v1+cell": {
     "cellMetadata": {
      "byteLimit": 2048000,
      "rowLimit": 10000
     },
     "inputWidgets": {},
     "nuid": "d30dcee8-9440-46f0-9001-9ec65db1f040",
     "showTitle": true,
     "tableResultSettingsMap": {},
     "title": "Function execution"
    }
   },
   "outputs": [],
   "source": [
    "#Se Ejecuta la funcion por cada contenedor que se desee crear un punto de montaje.\n",
    "mount_point(ALIAS_MOUNT,MOUNT_CONTAINER_LANDING, LAKE_ACCOUNT, CLIENT_KEY, SECRET_KEY, TENANT_KEY, ENVIRONMENT_SCOPE, configs)\n",
    "mount_point(ALIAS_MOUNT,MOUNT_CONTAINER_TRUSTED, LAKE_ACCOUNT, CLIENT_KEY, SECRET_KEY, TENANT_KEY, ENVIRONMENT_SCOPE, configs)"
   ]
  },
  {
   "cell_type": "markdown",
   "metadata": {
    "application/vnd.databricks.v1+cell": {
     "cellMetadata": {},
     "inputWidgets": {},
     "nuid": "194cd080-09dd-42df-b8b1-d1ec31749617",
     "showTitle": false,
     "tableResultSettingsMap": {},
     "title": ""
    }
   },
   "source": [
    "### 5. _Validation options:_  "
   ]
  },
  {
   "cell_type": "code",
   "execution_count": 0,
   "metadata": {
    "application/vnd.databricks.v1+cell": {
     "cellMetadata": {
      "byteLimit": 2048000,
      "rowLimit": 10000
     },
     "inputWidgets": {},
     "nuid": "3e95f61b-86aa-4f36-a018-2c43a3264d47",
     "showTitle": true,
     "tableResultSettingsMap": {},
     "title": "List secrets"
    }
   },
   "outputs": [
    {
     "output_type": "stream",
     "name": "stdout",
     "output_type": "stream",
     "text": [
      "Ámbitos de secretos disponibles:\n- KV-Transversal\n- storage_scope_db\n- StorageScope\n"
     ]
    }
   ],
   "source": [
    "# Comando para listar todos los ámbitos de secretos disponibles en tu workspace\n",
    "secret_scopes = dbutils.secrets.listScopes()\n",
    "\n",
    "# Imprimir los ámbitos\n",
    "print(\"Ámbitos de secretos disponibles:\")\n",
    "for scope in secret_scopes:\n",
    "    print(f\"- {scope.name}\")"
   ]
  },
  {
   "cell_type": "code",
   "execution_count": 0,
   "metadata": {
    "application/vnd.databricks.v1+cell": {
     "cellMetadata": {
      "byteLimit": 2048000,
      "rowLimit": 10000
     },
     "inputWidgets": {},
     "nuid": "81ec383f-7cd3-4360-bdd7-f963b79f86bc",
     "showTitle": true,
     "tableResultSettingsMap": {},
     "title": "list the keys"
    }
   },
   "outputs": [
    {
     "output_type": "stream",
     "name": "stdout",
     "output_type": "stream",
     "text": [
      "\nSecretos en el ámbito 'StorageScope':\n- ADB-sasetransversal-ClienteId\n- ADB-sasetransversal-ClientSercret\n- ADB-sasetransversal-Name\n- ADB-TenantId\n- Key-Scope-ADB\n- StorageScope\n"
     ]
    }
   ],
   "source": [
    "# Reemplaza 'nombre-de-tu-ambito' con el nombre real de tu ámbito de secretos\n",
    "scope_name = \"StorageScope\" # Ejemplo\n",
    "\n",
    "print(f\"\\nSecretos en el ámbito '{scope_name}':\")\n",
    "try:\n",
    "    secrets_in_scope = dbutils.secrets.list(scope_name)\n",
    "    for secret in secrets_in_scope:\n",
    "        print(f\"- {secret.key}\")\n",
    "except Exception as e:\n",
    "    print(f\"Error al listar secretos en el ámbito '{scope_name}': {e}\")\n",
    "    print(\"Asegúrate de que el ámbito existe y tienes los permisos de LECTURA adecuados.\")"
   ]
  },
  {
   "cell_type": "code",
   "execution_count": 0,
   "metadata": {
    "application/vnd.databricks.v1+cell": {
     "cellMetadata": {
      "byteLimit": 2048000,
      "rowLimit": 10000
     },
     "inputWidgets": {},
     "nuid": "96aacf5d-656f-42ad-9ec9-47979ed31765",
     "showTitle": true,
     "tableResultSettingsMap": {},
     "title": "list created assemblies"
    }
   },
   "outputs": [
    {
     "output_type": "stream",
     "name": "stdout",
     "output_type": "stream",
     "text": [
      "Mount Name:  /databricks-datasets\nSource:  databricks-datasets\n--------------------------------------------------\nMount Name:  /Volumes\nSource:  UnityCatalogVolumes\n--------------------------------------------------\nMount Name:  /databricks/mlflow-tracking\nSource:  databricks/mlflow-tracking\n--------------------------------------------------\nMount Name:  /databricks-results\nSource:  databricks-results\n--------------------------------------------------\nMount Name:  /mnt/icbf/bronze\nSource:  abfss://bronze@[REDACTED].dfs.core.windows.net/\n--------------------------------------------------\nMount Name:  /databricks/mlflow-registry\nSource:  databricks/mlflow-registry\n--------------------------------------------------\nMount Name:  /Volume\nSource:  DbfsReserved\n--------------------------------------------------\nMount Name:  /volumes\nSource:  DbfsReserved\n--------------------------------------------------\nMount Name:  /\nSource:  DatabricksRoot\n--------------------------------------------------\nMount Name:  /volume\nSource:  DbfsReserved\n--------------------------------------------------\n"
     ]
    }
   ],
   "source": [
    "mounts = dbutils.fs.mounts()\n",
    "\n",
    "for mount in mounts:\n",
    "    print(\"Mount Name: \", mount.mountPoint)\n",
    "    print(\"Source: \", mount.source)\n",
    "    # print(\"Options: \", mount.options)\n",
    "    print(\"--------------------------------------------------\")\n",
    "#dbutils.fs.unmount(\"/mnt/bronze\")\n"
   ]
  }
 ],
 "metadata": {
  "application/vnd.databricks.v1+notebook": {
   "computePreferences": null,
   "dashboards": [],
   "environmentMetadata": {
    "base_environment": "",
    "environment_version": "2"
   },
   "inputWidgetPreferences": null,
   "language": "python",
   "notebookMetadata": {
    "pythonIndentUnit": 2
   },
   "notebookName": "Configuracion Punto de Montaje ADB",
   "widgets": {}
  },
  "language_info": {
   "name": "python"
  }
 },
 "nbformat": 4,
 "nbformat_minor": 0
}